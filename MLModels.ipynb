{
 "cells": [
  {
   "cell_type": "code",
   "execution_count": 4,
   "metadata": {},
   "outputs": [],
   "source": [
    "import pandas as pd\n"
   ]
  },
  {
   "cell_type": "code",
   "execution_count": 5,
   "metadata": {},
   "outputs": [],
   "source": [
    "rides_data = pd.read_csv(r\"D:\\WORK\\datascience\\practice\\Rides-Data-Analysis\\rides_data_practice_with_times.csv\")"
   ]
  },
  {
   "cell_type": "code",
   "execution_count": 7,
   "metadata": {},
   "outputs": [
    {
     "name": "stdout",
     "output_type": "stream",
     "text": [
      "mean_absolute_error : 10.96\n",
      "mean_squared_error : 165.37\n",
      "r2_score : -0.02\n"
     ]
    }
   ],
   "source": [
    "from sklearn.model_selection import train_test_split\n",
    "from sklearn.linear_model import LinearRegression\n",
    "from sklearn.metrics import mean_absolute_error, mean_squared_error, r2_score\n",
    "from sklearn.preprocessing import StandardScaler\n",
    "\n",
    "inde = rides_data[['Distance_km','Duration_min']]\n",
    "depe = rides_data['Fare']\n",
    "\n",
    "inde_train, inde_test, depe_train, depe_test = train_test_split(inde, depe, test_size=0.3, random_state=42)\n",
    "\n",
    "scalar = StandardScaler()\n",
    "inde_train_stan = scalar.fit_transform(inde_train)\n",
    "inde_test_stan = scalar.transform(inde_test)\n",
    "\n",
    "model = LinearRegression()\n",
    "model.fit(inde_train_stan,depe_train)\n",
    "\n",
    "predict = model.predict(inde_test_stan)\n",
    "\n",
    "mse = mean_squared_error(depe_test,predict)\n",
    "mae = mean_absolute_error(depe_test,predict)\n",
    "r2 = r2_score(depe_test,predict)\n",
    "\n",
    "print(f'mean_absolute_error : {mae :.2f}')\n",
    "print(f'mean_squared_error : {mse :.2f}')\n",
    "print(f'r2_score : {r2 :.2f}')"
   ]
  },
  {
   "cell_type": "markdown",
   "metadata": {},
   "source": [
    "1.Mean Absolute error:165.37\n",
    "Interpretation: On average, the model's predicted fare is off by 10.96 compared to the actual fare.\n",
    "this level of error might be significant depending on the avg fare amount in the dataset.\n",
    "\n",
    "2.Mean Square Error:165.37\n",
    "Interpretation: The squared differences between the predicted and actual fares are large, suggesting large deviations in predictions for some rides.\n",
    "High MSE indicates the model is struggling to capture the true relationship between the variables.\n",
    "\n",
    "3.r2 score:-0.02\n",
    "The R² score measures how well the independent variables explain the variation in the dependent variable. A score of -0.017 means the model performs worse than a simple baseline prediction that uses the mean fare for all predictions.\n",
    "The model doesn't effectively capture the relationship between Distance_km, Duration_min, and Fare.\n",
    "\n",
    "The model underperforms: The chosen features (Distance_km and Duration_min) might not be sufficient to predict the fare accurately.The relationship between the variables and the target (Fare) could be Non-linear, making linear regression a poor fit."
   ]
  },
  {
   "cell_type": "markdown",
   "metadata": {},
   "source": [
    "logistic regression\n"
   ]
  },
  {
   "cell_type": "code",
   "execution_count": 5,
   "metadata": {},
   "outputs": [
    {
     "name": "stdout",
     "output_type": "stream",
     "text": [
      "accuracy score of logistic regression :0.4967\n",
      "classification report of LR : \n",
      "               precision    recall  f1-score   support\n",
      "\n",
      "          No       0.50      0.64      0.56       151\n",
      "         Yes       0.49      0.36      0.41       149\n",
      "\n",
      "    accuracy                           0.50       300\n",
      "   macro avg       0.50      0.50      0.49       300\n",
      "weighted avg       0.50      0.50      0.49       300\n",
      "\n"
     ]
    }
   ],
   "source": [
    "import numpy as np\n",
    "import pandas as pd\n",
    "import matplotlib.pyplot as plt\n",
    "from sklearn.model_selection import train_test_split\n",
    "from sklearn.linear_model import LogisticRegression\n",
    "from sklearn.metrics import accuracy_score, classification_report\n",
    "from sklearn.preprocessing import StandardScaler\n",
    "\n",
    "# Load dataset\n",
    "file_path = r\"D:\\WORK\\datascience\\practice\\MLModels\\rides_data_practice_with_times.csv\"\n",
    "df = pd.read_csv(file_path)\n",
    "\n",
    "# convert the Ride_Canceled to values 0 or 1\n",
    "#df['Ride_Canceled'] = df['Ride_Canceled'].map({'yes':0,'no':1})\n",
    "\n",
    "# separate char and target variables in the dataset\n",
    "indep = df[['Distance_km','Duration_min','Driver_Rating','Fare']]\n",
    "depen = df['Ride_Canceled']\n",
    "\n",
    "#spliting dataset into test and training dataset\n",
    "indep_train, indep_test, depen_train, depen_test = train_test_split(indep, depen, test_size=0.3, random_state=42)\n",
    "\n",
    "# applying standard scalar\n",
    "standardscaler = StandardScaler()\n",
    "indep_train_stan = standardscaler.fit_transform(indep_train)\n",
    "indep_test_stan = standardscaler.transform(indep_test)\n",
    "\n",
    "# model training\n",
    "model_train= LogisticRegression()\n",
    "model_train.fit(indep_train_stan,depen_train)\n",
    "\n",
    "# predict the test set\n",
    "predict_test = model_train.predict(indep_test_stan)\n",
    "\n",
    "#accracy score \n",
    "accuracyscore = accuracy_score(depen_test, predict_test)\n",
    "print(f'accuracy score of logistic regression :{accuracyscore:.4f}')\n",
    "\n",
    "#classificatin report\n",
    "classificationreport = classification_report(depen_test, predict_test)\n",
    "\n",
    "print('classification report of LR : \\n', classificationreport )"
   ]
  },
  {
   "cell_type": "code",
   "execution_count": 6,
   "metadata": {},
   "outputs": [
    {
     "name": "stdout",
     "output_type": "stream",
     "text": [
      "accuracy score of logistic regression :0.5267\n",
      "classification report of LR : \n",
      "               precision    recall  f1-score   support\n",
      "\n",
      "          No       0.52      0.66      0.58       151\n",
      "         Yes       0.53      0.39      0.45       149\n",
      "\n",
      "    accuracy                           0.53       300\n",
      "   macro avg       0.53      0.53      0.52       300\n",
      "weighted avg       0.53      0.53      0.52       300\n",
      "\n"
     ]
    }
   ],
   "source": [
    "import numpy as np\n",
    "import pandas as pd\n",
    "import matplotlib.pyplot as plt\n",
    "from sklearn.model_selection import train_test_split\n",
    "from sklearn.linear_model import LogisticRegression\n",
    "from sklearn.metrics import accuracy_score, classification_report\n",
    "from sklearn.preprocessing import StandardScaler\n",
    "\n",
    "# Load dataset\n",
    "file_path = r\"D:\\WORK\\datascience\\practice\\MLModels\\rides_data_practice_with_times.csv\"\n",
    "df = pd.read_csv(file_path)\n",
    "\n",
    "# convert the Ride_Canceled to values 0 or 1\n",
    "#df['Ride_Canceled'] = df['Ride_Canceled'].map({'yes':0,'no':1})\n",
    "\n",
    "# separate char and target variables in the dataset\n",
    "indep = df[['Distance_km','Duration_min']]\n",
    "depen = df['Ride_Canceled']\n",
    "\n",
    "#spliting dataset into test and training dataset\n",
    "indep_train, indep_test, depen_train, depen_test = train_test_split(indep, depen, test_size=0.3, random_state=42)\n",
    "\n",
    "# applying standard scalar\n",
    "standardscaler = StandardScaler()\n",
    "indep_train_stan = standardscaler.fit_transform(indep_train)\n",
    "indep_test_stan = standardscaler.transform(indep_test)\n",
    "\n",
    "# model training\n",
    "model_train= LogisticRegression()\n",
    "model_train.fit(indep_train_stan,depen_train)\n",
    "\n",
    "# predict the test set\n",
    "predict_test = model_train.predict(indep_test_stan)\n",
    "\n",
    "#accracy score \n",
    "accuracyscore = accuracy_score(depen_test, predict_test)\n",
    "print(f'accuracy score of logistic regression :{accuracyscore:.4f}')\n",
    "\n",
    "#classificatin report\n",
    "classificationreport = classification_report(depen_test, predict_test)\n",
    "\n",
    "print('classification report of LR : \\n', classificationreport )"
   ]
  },
  {
   "cell_type": "markdown",
   "metadata": {},
   "source": [
    "1.Accuracy Score: 52.67%\n",
    "The model correctly predicts ride cancellations 52.67% of the time.\n",
    "This is only slightly better than random guessing (50%), suggesting the model still lacks predictive power.\n",
    "\n",
    "2.Precision, Recall, and F1-Score:\n",
    "\n",
    "The model predicts two classes: 0 (Ride Not Canceled) and 1 (Ride Canceled).\n",
    "\n",
    "@Precision: Measures how many of the predicted positive cases (1s) are actually correct.\n",
    "\n",
    "@Recall: Measures how many of the actual positive cases (1s) were correctly identified.\n",
    "\n",
    "@F1-Score: Balances precision and recall.\n",
    "\n",
    "The model is better at identifying rides that were not canceled (higher recall: 66%) than identifying canceled rides (only 39% recall).\n",
    "\n",
    "This suggests the model leans towards predicting rides as \"Not Canceled\" more often, leading to false negatives (predicting \"Not Canceled\" when it should be \"Canceled\").\n",
    "\n",
    "The F1-score is low for both classes, meaning neither precision nor recall is strong.\n",
    "\n",
    "The model isn't performing well and struggles with correctly identifying ride cancellations.\n",
    "\n",
    "Possible reasons:\n",
    "\n",
    "Features might not be strong predictors. More relevant features could improve accuracy.\n",
    "\n",
    "Data imbalance. If one class (e.g., \"Not Canceled\") is more frequent, the model might favor it.\n",
    "\n",
    "Logistic Regression might not be the best choice. Non-linear models (like Random Forest, XGBoost) could work better."
   ]
  }
 ],
 "metadata": {
  "kernelspec": {
   "display_name": "base",
   "language": "python",
   "name": "python3"
  },
  "language_info": {
   "codemirror_mode": {
    "name": "ipython",
    "version": 3
   },
   "file_extension": ".py",
   "mimetype": "text/x-python",
   "name": "python",
   "nbconvert_exporter": "python",
   "pygments_lexer": "ipython3",
   "version": "3.11.3"
  }
 },
 "nbformat": 4,
 "nbformat_minor": 2
}
