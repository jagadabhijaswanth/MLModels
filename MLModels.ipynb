{
 "cells": [
  {
   "cell_type": "code",
   "execution_count": 4,
   "metadata": {},
   "outputs": [],
   "source": [
    "import pandas as pd\n"
   ]
  },
  {
   "cell_type": "code",
   "execution_count": 5,
   "metadata": {},
   "outputs": [],
   "source": [
    "rides_data = pd.read_csv(r\"D:\\WORK\\datascience\\practice\\Rides-Data-Analysis\\rides_data_practice_with_times.csv\")"
   ]
  },
  {
   "cell_type": "code",
   "execution_count": 7,
   "metadata": {},
   "outputs": [
    {
     "name": "stdout",
     "output_type": "stream",
     "text": [
      "mean_absolute_error : 10.96\n",
      "mean_squared_error : 165.37\n",
      "r2_score : -0.02\n"
     ]
    }
   ],
   "source": [
    "from sklearn.model_selection import train_test_split\n",
    "from sklearn.linear_model import LinearRegression\n",
    "from sklearn.metrics import mean_absolute_error, mean_squared_error, r2_score\n",
    "from sklearn.preprocessing import StandardScaler\n",
    "\n",
    "inde = rides_data[['Distance_km','Duration_min']]\n",
    "depe = rides_data['Fare']\n",
    "\n",
    "inde_train, inde_test, depe_train, depe_test = train_test_split(inde, depe, test_size=0.3, random_state=42)\n",
    "\n",
    "scalar = StandardScaler()\n",
    "inde_train_stan = scalar.fit_transform(inde_train)\n",
    "inde_test_stan = scalar.transform(inde_test)\n",
    "\n",
    "model = LinearRegression()\n",
    "model.fit(inde_train_stan,depe_train)\n",
    "\n",
    "predict = model.predict(inde_test_stan)\n",
    "\n",
    "mse = mean_squared_error(depe_test,predict)\n",
    "mae = mean_absolute_error(depe_test,predict)\n",
    "r2 = r2_score(depe_test,predict)\n",
    "\n",
    "print(f'mean_absolute_error : {mae :.2f}')\n",
    "print(f'mean_squared_error : {mse :.2f}')\n",
    "print(f'r2_score : {r2 :.2f}')"
   ]
  },
  {
   "cell_type": "markdown",
   "metadata": {},
   "source": [
    "1.Mean Absolute error:165.37\n",
    "Interpretation: On average, the model's predicted fare is off by 10.96 compared to the actual fare.\n",
    "this level of error might be significant depending on the avg fare amount in the dataset.\n",
    "\n",
    "2.Mean Square Error:165.37\n",
    "Interpretation: The squared differences between the predicted and actual fares are large, suggesting large deviations in predictions for some rides.\n",
    "High MSE indicates the model is struggling to capture the true relationship between the variables.\n",
    "\n",
    "3.r2 score:-0.02\n",
    "The R² score measures how well the independent variables explain the variation in the dependent variable. A score of -0.017 means the model performs worse than a simple baseline prediction that uses the mean fare for all predictions.\n",
    "The model doesn't effectively capture the relationship between Distance_km, Duration_min, and Fare.\n",
    "\n",
    "The model underperforms: The chosen features (Distance_km and Duration_min) might not be sufficient to predict the fare accurately.The relationship between the variables and the target (Fare) could be Non-linear, making linear regression a poor fit."
   ]
  }
 ],
 "metadata": {
  "kernelspec": {
   "display_name": "base",
   "language": "python",
   "name": "python3"
  },
  "language_info": {
   "codemirror_mode": {
    "name": "ipython",
    "version": 3
   },
   "file_extension": ".py",
   "mimetype": "text/x-python",
   "name": "python",
   "nbconvert_exporter": "python",
   "pygments_lexer": "ipython3",
   "version": "3.11.3"
  }
 },
 "nbformat": 4,
 "nbformat_minor": 2
}
